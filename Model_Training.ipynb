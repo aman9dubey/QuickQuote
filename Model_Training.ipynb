{
 "cells": [
  {
   "cell_type": "code",
   "execution_count": 2,
   "metadata": {},
   "outputs": [],
   "source": [
    "# coding: utf-8\n",
    "\n",
    "# # Importing Module\n",
    "# - pandas for formatting or provides table\n",
    "# - seaborn is wrapper over matplotlib\n",
    "\n",
    "# File imports\n",
    "\n",
    "import pandas as pd\n",
    "import numpy as np\n",
    "import matplotlib.pyplot as plt\n",
    "import seaborn as sns\n",
    "from Extract_Functional_Zone import process_data\n",
    "\n",
    "#get_ipython().magic('matplotlib inline')"
   ]
  },
  {
   "cell_type": "code",
   "execution_count": 3,
   "metadata": {},
   "outputs": [
    {
     "data": {
      "text/plain": [
       "'gender: female\\ndob : apr 20, 1977\\nproduct type: permanent\\n'"
      ]
     },
     "execution_count": 3,
     "metadata": {},
     "output_type": "execute_result"
    }
   ],
   "source": [
    "# Reading the Pre-Processed File\n",
    "name = \"raw_data.csv\"\n",
    "process_data(name)\n",
    "\n",
    "df = pd.read_csv(\"Processed_Data.csv\",encoding= \"utf-8\")\n",
    "df[\"Processed\"][0]\n"
   ]
  },
  {
   "cell_type": "code",
   "execution_count": 4,
   "metadata": {
    "collapsed": true
   },
   "outputs": [],
   "source": [
    "from nltk.corpus import stopwords,wordnet as wn\n",
    "from nltk.tokenize import wordpunct_tokenize,sent_tokenize\n",
    "from nltk import pos_tag\n",
    "from nltk.stem.wordnet import WordNetLemmatizer\n",
    "import re\n"
   ]
  },
  {
   "cell_type": "code",
   "execution_count": 5,
   "metadata": {
    "collapsed": true
   },
   "outputs": [],
   "source": [
    "#Removes all punctuations which acts as noise\n",
    "\n",
    "def rem_punt(doc):\n",
    "    ans = re.sub('\"|\\\\n|\\(|\\)|,|\\.|[$!--+@#:]',' ',doc)\n",
    "    ans = re.sub(' +',' ',ans)\n",
    "    ans = ans.lower()\n",
    "    return ans\n",
    "\n",
    "\n",
    "# Stop words removal using tokenization\n",
    "\n",
    "stop_word = set(stopwords.words('english'))\n",
    "\n",
    "def tokenize(document): \n",
    "    lemmy = []\n",
    "    for sent in sent_tokenize(document):\n",
    "        for token, tag in pos_tag(wordpunct_tokenize(sent)):\n",
    "            #print(token,tag)\n",
    "            if token in stop_word:\n",
    "                 continue\n",
    "            lemma = lemmatize(token, tag)\n",
    "            lemmy.append(lemma)\n",
    "    return lemmy\n",
    "\n",
    "#Lemmatization for tokens simplification\n",
    "\n",
    "def lemmatize(token, tag):\n",
    "    tag = {\n",
    "          'N': wn.NOUN,\n",
    "          'V': wn.VERB,\n",
    "          'R': wn.ADV,\n",
    "          'J': wn.ADJ\n",
    "    }.get(tag[0], wn.NOUN)\n",
    "    lemmatizer = WordNetLemmatizer()\n",
    "    return lemmatizer.lemmatize(token, tag)"
   ]
  },
  {
   "cell_type": "code",
   "execution_count": 6,
   "metadata": {
    "collapsed": true
   },
   "outputs": [],
   "source": [
    "# In[22]:\n",
    "\n",
    "df['Lemmitize'] = df['Processed'].apply(rem_punt).apply(tokenize)\n",
    "\n",
    "\n",
    "df.to_csv('NLPProcessed.csv',index=False, encoding = \"utf-8\")"
   ]
  },
  {
   "cell_type": "code",
   "execution_count": 7,
   "metadata": {
    "collapsed": true
   },
   "outputs": [],
   "source": [
    "# In[25]:\n",
    "\n",
    "df = pd.read_csv('NLPProcessed.csv')\n",
    "\n",
    "\n",
    "# # Statistical Modeling \n",
    "\n",
    "# In[26]:\n",
    "\n",
    "from sklearn.feature_extraction.text import TfidfVectorizer\n",
    "from sklearn.model_selection import train_test_split\n",
    "from sklearn.decomposition import TruncatedSVD\n",
    "from sklearn.pipeline import make_pipeline\n",
    "from sklearn.preprocessing import Normalizer,LabelEncoder\n",
    "from sklearn.metrics import accuracy_score,classification_report\n",
    "\n",
    "\n",
    "# In[28]:\n",
    "\n",
    "X = df['Lemmitize']\n",
    "y = df['Offer_noise_free']\n",
    "#lab_y = LabelEncoder()\n",
    "#y = lab_y.fit_transform(y)"
   ]
  },
  {
   "cell_type": "code",
   "execution_count": 8,
   "metadata": {},
   "outputs": [
    {
     "data": {
      "text/plain": [
       "\"['gender', 'female', 'dob', 'apr', '20', '1977', 'product', 'type', 'permanent']\""
      ]
     },
     "execution_count": 8,
     "metadata": {},
     "output_type": "execute_result"
    }
   ],
   "source": [
    "X[0]"
   ]
  },
  {
   "cell_type": "code",
   "execution_count": 9,
   "metadata": {
    "collapsed": true
   },
   "outputs": [],
   "source": [
    "# In[29]:\n",
    "\n",
    "X_train,X_test,y_train,y_test = train_test_split(X,y)\n",
    "\n",
    "\n",
    "# In[30]:\n",
    "\n",
    "vect = TfidfVectorizer(max_df=0.8, max_features=15000, min_df=0.01, use_idf=True , ngram_range=(1,3))"
   ]
  },
  {
   "cell_type": "code",
   "execution_count": 10,
   "metadata": {},
   "outputs": [
    {
     "data": {
      "text/plain": [
       "'\\nimport matplotlib.pyplot as plt \\n%matplotlib inline\\nplt.spy(vect)\\n'"
      ]
     },
     "execution_count": 10,
     "metadata": {},
     "output_type": "execute_result"
    }
   ],
   "source": [
    "\n",
    "#from xgboost.sklearn import XGBClassifier\n",
    "#model1 = XGBClassifier(nthread=4,n_estimators=1000)\n",
    "\n",
    "\n",
    "# Naive Bayes\n",
    "\n",
    "from sklearn.naive_bayes import GaussianNB,MultinomialNB\n",
    "model2 = GaussianNB()\n",
    "\n",
    "\n",
    "# ExtraTree Classifier\n",
    "\n",
    "from sklearn.ensemble import ExtraTreesClassifier,RandomForestClassifier\n",
    "model3 = RandomForestClassifier(n_estimators=600,n_jobs=-1)\n",
    "\n",
    "# SVM Classifier\n",
    "\n",
    "from sklearn.svm import SVC\n",
    "model4 = SVC()\n",
    "\n",
    "\n",
    "# Logistic Regression \n",
    "\n",
    "from sklearn.linear_model import LinearRegression,SGDClassifier,LogisticRegression\n",
    "model5 = LogisticRegression()\n",
    "\n",
    "from sklearn.discriminant_analysis import LinearDiscriminantAnalysis\n",
    "model6 = LinearDiscriminantAnalysis()\n",
    "'''\n",
    "import matplotlib.pyplot as plt \n",
    "%matplotlib inline\n",
    "plt.spy(vect)\n",
    "'''"
   ]
  },
  {
   "cell_type": "code",
   "execution_count": 11,
   "metadata": {
    "collapsed": true
   },
   "outputs": [],
   "source": [
    "# Model Fitting\n",
    "\n",
    "import matplotlib.pyplot as plt\n",
    "from sklearn.metrics import classification_report\n",
    "from sklearn.metrics import accuracy_score\n",
    "from sklearn.metrics import confusion_matrix\n",
    "import time\n",
    "\n",
    "name = [] \n",
    "results = []\n",
    "matrix_confusion = []\n",
    "training_time = []\n",
    "prediction_time = []\n",
    "def model_making(model_name, vect , model , X_train , y_train , X_test , y_test):\n",
    "    \n",
    "    t1 =time.time()\n",
    "    clf = make_pipeline(vect,model)\n",
    "    clf.fit(X_train,y_train)\n",
    "    t2 = time.time()\n",
    "    training_time.append(t2-t1)\n",
    "    \n",
    "    t1 = time.time()\n",
    "    pd = clf.predict(X_test)\n",
    "    t2 = time.time()\n",
    "    prediction_time.append(t2-t1)\n",
    "    \n",
    "    y_pred = clf.predict(X_test)\n",
    "    name.append(model_name)\n",
    "    results.append(accuracy_score(y_test, y_pred)*100)\n",
    "    matrix_confusion.append(confusion_matrix(y_test, y_pred))\n",
    "    \n",
    "    #print (\"=====Accuracy Score \", \"{0:.2f}\".format(accuracy_score(y_test, y_pred)*100), \"%\")\n",
    "    #print (\"=====Confusion Matrix\")\n",
    "    #print (confusion_matrix(y_test, y_pred))\n",
    "    #target_names = ['class 0', 'class 1', 'class 2']\n",
    "    #print(classification_report(y_test, y_pred, target_names=target_names))\n",
    "    "
   ]
  },
  {
   "cell_type": "code",
   "execution_count": 12,
   "metadata": {
    "collapsed": true
   },
   "outputs": [],
   "source": [
    "model_making(\"Random Forest\",vect, model3, X_train, y_train, X_test, y_test)"
   ]
  },
  {
   "cell_type": "code",
   "execution_count": 13,
   "metadata": {
    "collapsed": true
   },
   "outputs": [],
   "source": [
    "model_making(\"SVM\" , vect, model4, X_train, y_train, X_test, y_test)"
   ]
  },
  {
   "cell_type": "code",
   "execution_count": 14,
   "metadata": {
    "collapsed": true
   },
   "outputs": [],
   "source": [
    "model_making(\"Logistic Regression\",vect, model5, X_train, y_train, X_test, y_test)"
   ]
  },
  {
   "cell_type": "code",
   "execution_count": 15,
   "metadata": {
    "collapsed": true
   },
   "outputs": [],
   "source": [
    "#model_making(\"Naive Bayes\", vect , model2 , X_train, y_train, X_test, y_test )"
   ]
  },
  {
   "cell_type": "code",
   "execution_count": 16,
   "metadata": {},
   "outputs": [
    {
     "name": "stdout",
     "output_type": "stream",
     "text": [
      "Total dataset 6\n",
      "Training dataset:  4\n",
      "Testing dataset:  2 \n",
      "\n",
      "Name                       Accuracy         Training Time(s)    Prediction Time(s) \n",
      " \n",
      "Random Forest               0.000                2.208                        0.731s \n",
      " \n",
      "SVM                         0.000                0.014                        0.002s \n",
      " \n",
      "Logistic Regression         0.000                0.317                        0.003s \n",
      " \n"
     ]
    }
   ],
   "source": [
    "print(\"Total dataset\",len(X))\n",
    "print(\"Training dataset: \",len(X_train))\n",
    "print(\"Testing dataset: \",len(X_test),\"\\n\")\n",
    "print(\"{:20} {:^20} {:^20} {:^20}\\n \".format(\"Name\" , \"Accuracy\" , \"Training Time(s)\" , \"Prediction Time(s)\" ) )\n",
    "\n",
    "for i in range(len(name)):\n",
    "    print(\"{:20} {:^20.3f} {:^20.3f} {:20.3f}s \\n \".format(name[i] , results[i] , training_time[i] , prediction_time[i] ) )"
   ]
  },
  {
   "cell_type": "code",
   "execution_count": 17,
   "metadata": {},
   "outputs": [
    {
     "data": {
      "text/plain": [
       "1    ['gender', 'male', 'dob', '10', '/', '0x', '/'...\n",
       "2    ['male', 'xx', '/', '31', '/', 'xx', '5', '’',...\n",
       "Name: Lemmitize, dtype: object"
      ]
     },
     "execution_count": 17,
     "metadata": {},
     "output_type": "execute_result"
    }
   ],
   "source": [
    "X_test\n"
   ]
  }
 ],
 "metadata": {
  "kernelspec": {
   "display_name": "Python 3",
   "language": "python",
   "name": "python3"
  },
  "language_info": {
   "codemirror_mode": {
    "name": "ipython",
    "version": 3
   },
   "file_extension": ".py",
   "mimetype": "text/x-python",
   "name": "python",
   "nbconvert_exporter": "python",
   "pygments_lexer": "ipython3",
   "version": "3.6.1"
  }
 },
 "nbformat": 4,
 "nbformat_minor": 2
}
