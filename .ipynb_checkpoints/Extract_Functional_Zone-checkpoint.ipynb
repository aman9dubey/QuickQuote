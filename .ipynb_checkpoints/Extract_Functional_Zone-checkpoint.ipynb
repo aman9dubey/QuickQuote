{
 "cells": [
  {
   "cell_type": "code",
   "execution_count": 1,
   "metadata": {
    "collapsed": true
   },
   "outputs": [],
   "source": [
    "import pandas as pd\n",
    "import numpy as np"
   ]
  },
  {
   "cell_type": "code",
   "execution_count": 2,
   "metadata": {
    "collapsed": true
   },
   "outputs": [],
   "source": [
    "def process_data(name):\n",
    "    df = pd.read_csv(name)\n",
    "    df['Processed'] = df['Contents'].apply(rem_punt)\n",
    "    df.drop(['Contents'],axis = 1 , inplace = True)\n",
    "    df['Offer_noise_free'] = df['Offer'].apply(rem_noise)\n",
    "                                               "
   ]
  },
  {
   "cell_type": "code",
   "execution_count": 3,
   "metadata": {
    "collapsed": true
   },
   "outputs": [],
   "source": [
    "def rem_punt(doc):\n",
    "    ans = \"\"\n",
    "    doc = doc.lower()\n",
    "    \n",
    "    index1 = doc.rfind(\"gender\")\n",
    "    if(index1 == -1):\n",
    "        index1 = 0\n",
    "    index2 = doc.rfind(\"face\")\n",
    "    \n",
    "    if(index2 == -1):\n",
    "        ans = doc[index1:]\n",
    "    else:\n",
    "        ans = doc[index1:index2]\n",
    "    return ans        \n"
   ]
  },
  {
   "cell_type": "code",
   "execution_count": 4,
   "metadata": {
    "collapsed": true
   },
   "outputs": [],
   "source": [
    "lookup = [\"tobacco super/standard\",\"super/preferred\",\"non-tobacco/preferred\",\"declined\"]\n",
    "\n",
    "def rem_noise(doc):\n",
    "    doc = doc.lower()\n",
    "    for i in lookup:\n",
    "        if i in doc:\n",
    "            return i\n",
    "    return doc"
   ]
  },
  {
   "cell_type": "code",
   "execution_count": 6,
   "metadata": {
    "scrolled": true
   },
   "outputs": [
    {
     "data": {
      "text/html": [
       "<div>\n",
       "<style>\n",
       "    .dataframe thead tr:only-child th {\n",
       "        text-align: right;\n",
       "    }\n",
       "\n",
       "    .dataframe thead th {\n",
       "        text-align: left;\n",
       "    }\n",
       "\n",
       "    .dataframe tbody tr th {\n",
       "        vertical-align: top;\n",
       "    }\n",
       "</style>\n",
       "<table border=\"1\" class=\"dataframe\">\n",
       "  <thead>\n",
       "    <tr style=\"text-align: right;\">\n",
       "      <th></th>\n",
       "      <th>Id</th>\n",
       "      <th>MessageID</th>\n",
       "      <th>Subject</th>\n",
       "      <th>Sender/email</th>\n",
       "      <th>recpient mail</th>\n",
       "      <th>sendOn</th>\n",
       "      <th>receivedOn</th>\n",
       "      <th>Offer</th>\n",
       "      <th>Processed</th>\n",
       "      <th>Offer_noise_free</th>\n",
       "    </tr>\n",
       "  </thead>\n",
       "  <tbody>\n",
       "    <tr>\n",
       "      <th>0</th>\n",
       "      <td>NaN</td>\n",
       "      <td>NaN</td>\n",
       "      <td>NaN</td>\n",
       "      <td>NaN</td>\n",
       "      <td>NaN</td>\n",
       "      <td>NaN</td>\n",
       "      <td>NaN</td>\n",
       "      <td>A</td>\n",
       "      <td>gender: female\\ndob : apr 20, 1977\\nproduct ty...</td>\n",
       "      <td>a</td>\n",
       "    </tr>\n",
       "    <tr>\n",
       "      <th>1</th>\n",
       "      <td>NaN</td>\n",
       "      <td>NaN</td>\n",
       "      <td>NaN</td>\n",
       "      <td>NaN</td>\n",
       "      <td>NaN</td>\n",
       "      <td>NaN</td>\n",
       "      <td>NaN</td>\n",
       "      <td>B</td>\n",
       "      <td>gender: male\\ndob : 10/0x/19xx\\n</td>\n",
       "      <td>b</td>\n",
       "    </tr>\n",
       "    <tr>\n",
       "      <th>2</th>\n",
       "      <td>NaN</td>\n",
       "      <td>NaN</td>\n",
       "      <td>NaN</td>\n",
       "      <td>NaN</td>\n",
       "      <td>NaN</td>\n",
       "      <td>NaN</td>\n",
       "      <td>NaN</td>\n",
       "      <td>C</td>\n",
       "      <td>male\\nxx/31/xx\\n5’ 6”\\n200 lb\\nno medications\\...</td>\n",
       "      <td>c</td>\n",
       "    </tr>\n",
       "    <tr>\n",
       "      <th>3</th>\n",
       "      <td>NaN</td>\n",
       "      <td>NaN</td>\n",
       "      <td>NaN</td>\n",
       "      <td>NaN</td>\n",
       "      <td>NaN</td>\n",
       "      <td>NaN</td>\n",
       "      <td>NaN</td>\n",
       "      <td>D</td>\n",
       "      <td>ln offered table c due to chronic pain history...</td>\n",
       "      <td>d</td>\n",
       "    </tr>\n",
       "    <tr>\n",
       "      <th>4</th>\n",
       "      <td>NaN</td>\n",
       "      <td>NaN</td>\n",
       "      <td>NaN</td>\n",
       "      <td>NaN</td>\n",
       "      <td>NaN</td>\n",
       "      <td>NaN</td>\n",
       "      <td>NaN</td>\n",
       "      <td>E</td>\n",
       "      <td>male 53\\nbuilt – preferred nt\\ndiagnosed with ...</td>\n",
       "      <td>e</td>\n",
       "    </tr>\n",
       "    <tr>\n",
       "      <th>5</th>\n",
       "      <td>NaN</td>\n",
       "      <td>NaN</td>\n",
       "      <td>NaN</td>\n",
       "      <td>NaN</td>\n",
       "      <td>NaN</td>\n",
       "      <td>NaN</td>\n",
       "      <td>NaN</td>\n",
       "      <td>F</td>\n",
       "      <td>gender: female\\n    -   date of birth: dec 20,...</td>\n",
       "      <td>f</td>\n",
       "    </tr>\n",
       "  </tbody>\n",
       "</table>\n",
       "</div>"
      ],
      "text/plain": [
       "   Id  MessageID  Subject  Sender/email  recpient mail  sendOn  receivedOn  \\\n",
       "0 NaN        NaN      NaN           NaN            NaN     NaN         NaN   \n",
       "1 NaN        NaN      NaN           NaN            NaN     NaN         NaN   \n",
       "2 NaN        NaN      NaN           NaN            NaN     NaN         NaN   \n",
       "3 NaN        NaN      NaN           NaN            NaN     NaN         NaN   \n",
       "4 NaN        NaN      NaN           NaN            NaN     NaN         NaN   \n",
       "5 NaN        NaN      NaN           NaN            NaN     NaN         NaN   \n",
       "\n",
       "  Offer                                          Processed Offer_noise_free  \n",
       "0     A  gender: female\\ndob : apr 20, 1977\\nproduct ty...                a  \n",
       "1     B                   gender: male\\ndob : 10/0x/19xx\\n                b  \n",
       "2     C  male\\nxx/31/xx\\n5’ 6”\\n200 lb\\nno medications\\...                c  \n",
       "3     D  ln offered table c due to chronic pain history...                d  \n",
       "4     E  male 53\\nbuilt – preferred nt\\ndiagnosed with ...                e  \n",
       "5     F  gender: female\\n    -   date of birth: dec 20,...                f  "
      ]
     },
     "execution_count": 6,
     "metadata": {},
     "output_type": "execute_result"
    }
   ],
   "source": []
  },
  {
   "cell_type": "code",
   "execution_count": 10,
   "metadata": {
    "collapsed": true
   },
   "outputs": [],
   "source": [
    "#import EFZP as zp\n",
    "#p = zp.parse(\"Hi Dave,\\nLets meet up this Tuesday\\nCheers, Tom\\n\\nOn Sunday, 15 May 2011 at 5:02 PM, Dave Trindall wrote: Hey Tom,\\nHow about we get together ...\")\n",
    "#print (p)"
   ]
  },
  {
   "cell_type": "code",
   "execution_count": 7,
   "metadata": {
    "collapsed": true
   },
   "outputs": [],
   "source": []
  }
 ],
 "metadata": {
  "kernelspec": {
   "display_name": "Python 3",
   "language": "python",
   "name": "python3"
  },
  "language_info": {
   "codemirror_mode": {
    "name": "ipython",
    "version": 3
   },
   "file_extension": ".py",
   "mimetype": "text/x-python",
   "name": "python",
   "nbconvert_exporter": "python",
   "pygments_lexer": "ipython3",
   "version": "3.6.1"
  }
 },
 "nbformat": 4,
 "nbformat_minor": 2
}
