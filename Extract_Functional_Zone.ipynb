{
 "cells": [
  {
   "cell_type": "code",
   "execution_count": 1,
   "metadata": {
    "collapsed": true
   },
   "outputs": [],
   "source": [
    "import pandas as pd\n",
    "import numpy as np\n"
   ]
  },
  {
   "cell_type": "code",
   "execution_count": 2,
   "metadata": {
    "collapsed": true
   },
   "outputs": [],
   "source": [
    "def process_data(name):\n",
    "    df = pd.read_csv(name)\n",
    "    df['Processed'] = df['Contents'].apply(rem_punt)\n",
    "    df.drop(['Contents'],axis = 1 , inplace = True)\n",
    "    df['Offer_noise_free'] = df['Offer'].apply(rem_noise)\n",
    "    df.to_csv('Processed_Data.csv',index=False,encoding = \"utf-8\")\n",
    "                                               "
   ]
  },
  {
   "cell_type": "code",
   "execution_count": 3,
   "metadata": {
    "collapsed": true
   },
   "outputs": [],
   "source": [
    "def rem_punt(doc):\n",
    "    ans = \"\"\n",
    "    doc = doc.lower()\n",
    "    \n",
    "    index1 = doc.rfind(\"gender\")\n",
    "    if(index1 == -1):\n",
    "        index1 = 0\n",
    "    index2 = doc.rfind(\"face\")\n",
    "    \n",
    "    if(index2 == -1):\n",
    "        ans = doc[index1:]\n",
    "    else:\n",
    "        ans = doc[index1:index2]\n",
    "    return ans        \n"
   ]
  },
  {
   "cell_type": "code",
   "execution_count": 4,
   "metadata": {
    "collapsed": true
   },
   "outputs": [],
   "source": [
    "lookup = [\"tobacco super/standard\",\"super/preferred\",\"non-tobacco/preferred\",\"declined\"]\n",
    "\n",
    "def rem_noise(doc):\n",
    "    doc = doc.lower()\n",
    "    for i in lookup:\n",
    "        if i in doc:\n",
    "            return i\n",
    "    return doc"
   ]
  },
  {
   "cell_type": "code",
   "execution_count": 10,
   "metadata": {
    "collapsed": true
   },
   "outputs": [],
   "source": [
    "#import EFZP as zp\n",
    "#p = zp.parse(\"Hi Dave,\\nLets meet up this Tuesday\\nCheers, Tom\\n\\nOn Sunday, 15 May 2011 at 5:02 PM, Dave Trindall wrote: Hey Tom,\\nHow about we get together ...\")\n",
    "#print (p)"
   ]
  }
 ],
 "metadata": {
  "kernelspec": {
   "display_name": "Python 3",
   "language": "python",
   "name": "python3"
  },
  "language_info": {
   "codemirror_mode": {
    "name": "ipython",
    "version": 3
   },
   "file_extension": ".py",
   "mimetype": "text/x-python",
   "name": "python",
   "nbconvert_exporter": "python",
   "pygments_lexer": "ipython3",
   "version": "3.6.1"
  }
 },
 "nbformat": 4,
 "nbformat_minor": 2
}
